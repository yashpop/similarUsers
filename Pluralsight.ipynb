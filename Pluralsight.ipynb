{
 "cells": [
  {
   "cell_type": "code",
   "execution_count": 1,
   "metadata": {},
   "outputs": [],
   "source": [
    "import pandas as pd\n",
    "import numpy as np\n"
   ]
  },
  {
   "cell_type": "code",
   "execution_count": 2,
   "metadata": {},
   "outputs": [],
   "source": [
    "### reading the files\n",
    "#sys.path.insert(0,'./data_files_ml_engineer/')\n",
    "user_course_views = pd.read_csv('./data_files_ml_engineer/user_course_views.csv')\n",
    "user_interests = pd.read_csv('./data_files_ml_engineer/user_interests.csv')\n",
    "user_assessment_scores = pd.read_csv('./data_files_ml_engineer/user_assessment_scores.csv')\n",
    "course_tags = pd.read_csv('./data_files_ml_engineer/course_tags.csv')"
   ]
  },
  {
   "cell_type": "code",
   "execution_count": 3,
   "metadata": {},
   "outputs": [
    {
     "name": "stdout",
     "output_type": "stream",
     "text": [
      "(6571, 1)\n"
     ]
    }
   ],
   "source": [
    "## for ratings\n",
    "ratings = user_assessment_scores.copy()\n",
    "# Drop the date column to draw average scores for user on asessment tags,\n",
    "# incase if users took assessment multiple times\n",
    "ratings.drop(['user_assessment_date'],axis = 1, inplace = True)\n",
    "grouped = ratings.groupby(['user_handle','assessment_tag'])\n",
    "ratings=grouped.agg('mean')\n",
    "print(ratings.shape)"
   ]
  },
  {
   "cell_type": "code",
   "execution_count": 7,
   "metadata": {
    "collapsed": true
   },
   "outputs": [
    {
     "data": {
      "text/html": [
       "<div>\n",
       "<style scoped>\n",
       "    .dataframe tbody tr th:only-of-type {\n",
       "        vertical-align: middle;\n",
       "    }\n",
       "\n",
       "    .dataframe tbody tr th {\n",
       "        vertical-align: top;\n",
       "    }\n",
       "\n",
       "    .dataframe thead th {\n",
       "        text-align: right;\n",
       "    }\n",
       "</style>\n",
       "<table border=\"1\" class=\"dataframe\">\n",
       "  <thead>\n",
       "    <tr style=\"text-align: right;\">\n",
       "      <th></th>\n",
       "      <th>user_handle</th>\n",
       "      <th>assessment_tag</th>\n",
       "      <th>user_assessment_score</th>\n",
       "    </tr>\n",
       "  </thead>\n",
       "  <tbody>\n",
       "    <tr>\n",
       "      <th>0</th>\n",
       "      <td>2</td>\n",
       "      <td>photoshop</td>\n",
       "      <td>139</td>\n",
       "    </tr>\n",
       "    <tr>\n",
       "      <th>1</th>\n",
       "      <td>4</td>\n",
       "      <td>java</td>\n",
       "      <td>169</td>\n",
       "    </tr>\n",
       "    <tr>\n",
       "      <th>2</th>\n",
       "      <td>9</td>\n",
       "      <td>azure-infrastructure-as-a-service</td>\n",
       "      <td>141</td>\n",
       "    </tr>\n",
       "    <tr>\n",
       "      <th>3</th>\n",
       "      <td>10</td>\n",
       "      <td>jquery</td>\n",
       "      <td>184</td>\n",
       "    </tr>\n",
       "    <tr>\n",
       "      <th>4</th>\n",
       "      <td>11</td>\n",
       "      <td>c-plus-plus</td>\n",
       "      <td>273</td>\n",
       "    </tr>\n",
       "  </tbody>\n",
       "</table>\n",
       "</div>"
      ],
      "text/plain": [
       "   user_handle                     assessment_tag  user_assessment_score\n",
       "0            2                          photoshop                    139\n",
       "1            4                               java                    169\n",
       "2            9  azure-infrastructure-as-a-service                    141\n",
       "3           10                             jquery                    184\n",
       "4           11                        c-plus-plus                    273"
      ]
     },
     "execution_count": 7,
     "metadata": {},
     "output_type": "execute_result"
    }
   ],
   "source": [
    "#ratings.reset_index(inplace=True)\n",
    "ratings.head()"
   ]
  },
  {
   "cell_type": "markdown",
   "metadata": {},
   "source": [
    "- Assuming the course score max is 300 from the data available\n",
    "    * (0-50)    : 1\n",
    "    * (51-100)  : 2\n",
    "    * (101-150) : 3\n",
    "    * (151-200) : 4\n",
    "    * (201-250) : 5\n",
    "    * (251-300) : 6"
   ]
  },
  {
   "cell_type": "code",
   "execution_count": 9,
   "metadata": {},
   "outputs": [],
   "source": [
    "for indice in ratings.index:\n",
    "    if 0<=ratings.ix[indice,2]<=50:\n",
    "        ratings.ix[indice,'rating']=1\n",
    "        \n",
    "    if 51<=ratings.ix[indice,2]<=100:\n",
    "        ratings.ix[indice,'rating']=2\n",
    "        \n",
    "    elif 101<=ratings.ix[indice,2]<=151:\n",
    "        ratings.ix[indice,'rating']=3\n",
    "        \n",
    "    if 151<=ratings.ix[indice,2]<=200:\n",
    "        ratings.ix[indice,'rating']=4\n",
    "        \n",
    "    if 201<=ratings.ix[indice,2]<=250:\n",
    "        ratings.ix[indice,'rating']=5\n",
    "        \n",
    "    if 251<=ratings.ix[indice,2]<=300:\n",
    "        ratings.ix[indice,'rating']=6"
   ]
  },
  {
   "cell_type": "code",
   "execution_count": 10,
   "metadata": {},
   "outputs": [],
   "source": [
    "del indice"
   ]
  },
  {
   "cell_type": "markdown",
   "metadata": {},
   "source": [
    "## Things to do\n",
    "#derive a rating given by a course through course_tag assessment to each user\n",
    "### 1. check if the course genres and assessment tags are same or if courses and assessment_tags are same\n",
    "- course_genres and courses in course_tags\n",
    "- assessment_tags in the user_assessment_scores"
   ]
  },
  {
   "cell_type": "code",
   "execution_count": 20,
   "metadata": {},
   "outputs": [
    {
     "name": "stdout",
     "output_type": "stream",
     "text": [
      "(999, ' course_genres/course_tags.course_tags available')\n",
      "(5942, ' courses available')\n",
      "(54, ' : assessement_tags')\n",
      "(False, ' assessment tags is subset of course_tags.course_tags/course_genres')\n"
     ]
    }
   ],
   "source": [
    "course_genres = set(course_tags.course_tags)\n",
    "print(len(course_genres),' course_genres/course_tags.course_tags available')\n",
    "courses = set(course_tags.course_id)\n",
    "print(len(courses),' courses available')\n",
    "assessment_tags = set(user_assessment_scores.assessment_tag)\n",
    "print(len(assessment_tags),' : assessement_tags')\n",
    "print(assessment_tags.issubset(course_genres),' assessment tags is subset of course_tags.course_tags/course_genres')"
   ]
  },
  {
   "cell_type": "code",
   "execution_count": 13,
   "metadata": {},
   "outputs": [
    {
     "name": "stdout",
     "output_type": "stream",
     "text": [
      "16\n"
     ]
    }
   ],
   "source": [
    "#intersection of available course_genres and users that were assessed on\n",
    "print(len(assessment_tags.intersection(course_genres)))"
   ]
  },
  {
   "cell_type": "markdown",
   "metadata": {},
   "source": [
    "- creating ids for the course_tags available and assessed"
   ]
  },
  {
   "cell_type": "code",
   "execution_count": 14,
   "metadata": {},
   "outputs": [],
   "source": [
    "new_tags = assessment_tags.difference(course_genres)"
   ]
  },
  {
   "cell_type": "code",
   "execution_count": 15,
   "metadata": {},
   "outputs": [],
   "source": [
    "course_tags_updated = course_tags.copy()\n",
    "course_tags_updated=course_tags_updated.append(pd.DataFrame({'course_id':new_tags,'course_tags':new_tags}))"
   ]
  },
  {
   "cell_type": "code",
   "execution_count": 16,
   "metadata": {},
   "outputs": [
    {
     "name": "stdout",
     "output_type": "stream",
     "text": [
      "(11337, 2)\n",
      "(11375, 2)\n",
      "(112, 2)\n",
      "(0, 2)\n"
     ]
    }
   ],
   "source": [
    "print(course_tags.shape)\n",
    "print(course_tags_updated.shape)\n",
    "empty_df = course_tags_updated[course_tags_updated['course_tags'].isna()]\n",
    "## updating the empty course_tags with course_ids\n",
    "print(empty_df.shape)\n",
    "for indice in empty_df.index:\n",
    "    course_tags_updated.iloc[indice,1]=course_tags_updated.iloc[indice,0]\n",
    "    \n",
    "empty_df = course_tags_updated[course_tags_updated['course_tags'].isna()]\n",
    "print(empty_df.shape)\n",
    "del empty_df"
   ]
  },
  {
   "cell_type": "code",
   "execution_count": 43,
   "metadata": {},
   "outputs": [
    {
     "name": "stdout",
     "output_type": "stream",
     "text": [
      "999\n",
      "38\n",
      "1037\n"
     ]
    }
   ],
   "source": [
    "course_genres_dict={}\n",
    "course_genres_dict_reverse={}\n",
    "course_genres_updated = course_genres.copy()\n",
    "course_genres_updated.update(new_tags)\n",
    "print(len(course_genres))\n",
    "print(len(new_tags))\n",
    "print(len(course_genres_updated))\n",
    "for key,value in enumerate(course_genres_updated):\n",
    "    course_genres_dict[key]=value\n",
    "    course_genres_dict_reverse[value]=key"
   ]
  },
  {
   "cell_type": "code",
   "execution_count": 44,
   "metadata": {},
   "outputs": [
    {
     "name": "stdout",
     "output_type": "stream",
     "text": [
      "   course_tag_id          course_tag\n",
      "0              0                 NaN\n",
      "1              1  visual-studio-code\n",
      "2              2             msbuild\n",
      "3              3         data-access\n",
      "4              4  speech-recognition\n",
      "course_tag_id     int64\n",
      "course_tag       object\n",
      "dtype: object\n"
     ]
    }
   ],
   "source": [
    "course_genres_df = pd.DataFrame.from_dict(course_genres_dict,orient='index')\n",
    "course_genres_df.reset_index(inplace=True)\n",
    "course_genres_df.columns=['course_tag_id','course_tag']\n",
    "print(course_genres_df.head())\n",
    "\n",
    "print(course_genres_df.dtypes)"
   ]
  },
  {
   "cell_type": "code",
   "execution_count": 45,
   "metadata": {},
   "outputs": [
    {
     "name": "stdout",
     "output_type": "stream",
     "text": [
      "Empty DataFrame\n",
      "Columns: [course_tag_id, course_tag]\n",
      "Index: []\n"
     ]
    }
   ],
   "source": [
    "course_genres_df.dropna(inplace=True)\n",
    "print(course_genres_df[course_genres_df.course_tag.isna()])"
   ]
  },
  {
   "cell_type": "code",
   "execution_count": 49,
   "metadata": {},
   "outputs": [],
   "source": [
    "ratings['course_tag_id']=ratings.assessment_tag.map(course_genres_dict_reverse)"
   ]
  },
  {
   "cell_type": "code",
   "execution_count": 50,
   "metadata": {},
   "outputs": [
    {
     "data": {
      "text/html": [
       "<div>\n",
       "<style scoped>\n",
       "    .dataframe tbody tr th:only-of-type {\n",
       "        vertical-align: middle;\n",
       "    }\n",
       "\n",
       "    .dataframe tbody tr th {\n",
       "        vertical-align: top;\n",
       "    }\n",
       "\n",
       "    .dataframe thead th {\n",
       "        text-align: right;\n",
       "    }\n",
       "</style>\n",
       "<table border=\"1\" class=\"dataframe\">\n",
       "  <thead>\n",
       "    <tr style=\"text-align: right;\">\n",
       "      <th></th>\n",
       "      <th>user_handle</th>\n",
       "      <th>assessment_tag</th>\n",
       "      <th>user_assessment_score</th>\n",
       "      <th>rating</th>\n",
       "      <th>course_tag_id</th>\n",
       "    </tr>\n",
       "  </thead>\n",
       "  <tbody>\n",
       "    <tr>\n",
       "      <th>0</th>\n",
       "      <td>2</td>\n",
       "      <td>photoshop</td>\n",
       "      <td>139</td>\n",
       "      <td>3.0</td>\n",
       "      <td>247</td>\n",
       "    </tr>\n",
       "    <tr>\n",
       "      <th>1</th>\n",
       "      <td>4</td>\n",
       "      <td>java</td>\n",
       "      <td>169</td>\n",
       "      <td>4.0</td>\n",
       "      <td>652</td>\n",
       "    </tr>\n",
       "    <tr>\n",
       "      <th>2</th>\n",
       "      <td>9</td>\n",
       "      <td>azure-infrastructure-as-a-service</td>\n",
       "      <td>141</td>\n",
       "      <td>3.0</td>\n",
       "      <td>1014</td>\n",
       "    </tr>\n",
       "    <tr>\n",
       "      <th>3</th>\n",
       "      <td>10</td>\n",
       "      <td>jquery</td>\n",
       "      <td>184</td>\n",
       "      <td>4.0</td>\n",
       "      <td>430</td>\n",
       "    </tr>\n",
       "    <tr>\n",
       "      <th>4</th>\n",
       "      <td>11</td>\n",
       "      <td>c-plus-plus</td>\n",
       "      <td>273</td>\n",
       "      <td>6.0</td>\n",
       "      <td>823</td>\n",
       "    </tr>\n",
       "  </tbody>\n",
       "</table>\n",
       "</div>"
      ],
      "text/plain": [
       "   user_handle                     assessment_tag  user_assessment_score  \\\n",
       "0            2                          photoshop                    139   \n",
       "1            4                               java                    169   \n",
       "2            9  azure-infrastructure-as-a-service                    141   \n",
       "3           10                             jquery                    184   \n",
       "4           11                        c-plus-plus                    273   \n",
       "\n",
       "   rating  course_tag_id  \n",
       "0     3.0            247  \n",
       "1     4.0            652  \n",
       "2     3.0           1014  \n",
       "3     4.0            430  \n",
       "4     6.0            823  "
      ]
     },
     "execution_count": 50,
     "metadata": {},
     "output_type": "execute_result"
    }
   ],
   "source": [
    "ratings.head()"
   ]
  },
  {
   "cell_type": "code",
   "execution_count": 51,
   "metadata": {},
   "outputs": [],
   "source": [
    "ratings_ids = ratings[['user_handle','course_tag_id','rating']]"
   ]
  },
  {
   "cell_type": "code",
   "execution_count": 61,
   "metadata": {},
   "outputs": [],
   "source": [
    "n_users = user_interests.user_handle.unique().shape[0]\n",
    "n_users_assessed = int(ratings_ids.user_handle.unique().shape[0])\n",
    "n_course_tags_assessed = int(ratings_ids.course_tag_id.unique().shape[0])"
   ]
  },
  {
   "cell_type": "code",
   "execution_count": 62,
   "metadata": {},
   "outputs": [
    {
     "data": {
      "text/plain": [
       "user_handle        int64\n",
       "course_tag_id      int64\n",
       "rating           float64\n",
       "dtype: object"
      ]
     },
     "execution_count": 62,
     "metadata": {},
     "output_type": "execute_result"
    }
   ],
   "source": [
    "ratings_ids.dtypes"
   ]
  },
  {
   "cell_type": "code",
   "execution_count": 64,
   "metadata": {},
   "outputs": [
    {
     "name": "stdout",
     "output_type": "stream",
     "text": [
      "54\n",
      "3114\n"
     ]
    }
   ],
   "source": [
    "print(n_course_tags_assessed)\n",
    "print(n_users_assessed)"
   ]
  },
  {
   "cell_type": "code",
   "execution_count": 72,
   "metadata": {},
   "outputs": [],
   "source": [
    "data_matrix = pd.pivot_table(ratings_ids,index='user_handle',columns='course_tag_id')"
   ]
  },
  {
   "cell_type": "code",
   "execution_count": 74,
   "metadata": {},
   "outputs": [],
   "source": [
    "data_matrix.fillna(0,inplace=True)"
   ]
  },
  {
   "cell_type": "code",
   "execution_count": 75,
   "metadata": {},
   "outputs": [],
   "source": [
    "data_matrix=data_matrix.as_matrix()"
   ]
  },
  {
   "cell_type": "code",
   "execution_count": 77,
   "metadata": {},
   "outputs": [],
   "source": [
    "## finding user similarity\n",
    "from sklearn.metrics.pairwise import pairwise_distances\n",
    "user_similarity = pairwise_distances(data_matrix,metric='cosine')\n",
    "user_similarity_"
   ]
  },
  {
   "cell_type": "code",
   "execution_count": 78,
   "metadata": {},
   "outputs": [],
   "source": [
    "course_tag_similarity = pairwise_distances(data_matrix.T,metric='cosine')"
   ]
  },
  {
   "cell_type": "code",
   "execution_count": null,
   "metadata": {},
   "outputs": [],
   "source": []
  },
  {
   "cell_type": "markdown",
   "metadata": {},
   "source": [
    "#### This gives us the item-item and user-user similarity in an array form. The next step is to make predictions based on these similarities."
   ]
  },
  {
   "cell_type": "markdown",
   "metadata": {},
   "source": [
    "def predict(ratings, similarity, type='user'):\n",
    "    if type == 'user':\n",
    "        mean_user_rating = ratings.mean(axis=1)\n",
    "        #We use np.newaxis so that mean_user_rating has same format as ratings\n",
    "        ratings_diff = (ratings - mean_user_rating[:, np.newaxis])\n",
    "        pred = mean_user_rating[:, np.newaxis] + similarity.dot(ratings_diff) / np.array([np.abs(similarity).sum(axis=1)]).T\n",
    "    elif type == 'course':\n",
    "        pred = ratings.dot(similarity) / np.array([np.abs(similarity).sum(axis=1)])\n",
    "    return pred"
   ]
  },
  {
   "cell_type": "markdown",
   "metadata": {},
   "source": [
    "user_prediction = predict(data_matrix, user_similarity, type='user')\n",
    "course_tag_prediction = predict(data_matrix, course_tag_similarity, type='course')"
   ]
  },
  {
   "cell_type": "code",
   "execution_count": 91,
   "metadata": {},
   "outputs": [
    {
     "data": {
      "text/plain": [
       "array([[ 0.,  1.,  1., ...,  1.,  1.,  1.],\n",
       "       [ 1.,  0.,  1., ...,  1.,  1.,  1.],\n",
       "       [ 1.,  1.,  0., ...,  1.,  1.,  1.],\n",
       "       ..., \n",
       "       [ 1.,  1.,  1., ...,  0.,  1.,  1.],\n",
       "       [ 1.,  1.,  1., ...,  1.,  0.,  1.],\n",
       "       [ 1.,  1.,  1., ...,  1.,  1.,  0.]])"
      ]
     },
     "execution_count": 91,
     "metadata": {},
     "output_type": "execute_result"
    }
   ],
   "source": [
    "user_similarity"
   ]
  },
  {
   "cell_type": "code",
   "execution_count": 92,
   "metadata": {},
   "outputs": [],
   "source": [
    "pd.DataFrame(user_similarity).to_csv('./data_files_ml_engineer/trial/user_rec.csv',index=False)"
   ]
  },
  {
   "cell_type": "code",
   "execution_count": 93,
   "metadata": {},
   "outputs": [
    {
     "data": {
      "text/html": [
       "<div>\n",
       "<style scoped>\n",
       "    .dataframe tbody tr th:only-of-type {\n",
       "        vertical-align: middle;\n",
       "    }\n",
       "\n",
       "    .dataframe tbody tr th {\n",
       "        vertical-align: top;\n",
       "    }\n",
       "\n",
       "    .dataframe thead th {\n",
       "        text-align: right;\n",
       "    }\n",
       "</style>\n",
       "<table border=\"1\" class=\"dataframe\">\n",
       "  <thead>\n",
       "    <tr style=\"text-align: right;\">\n",
       "      <th></th>\n",
       "      <th>user_handle</th>\n",
       "      <th>view_date</th>\n",
       "      <th>course_id</th>\n",
       "      <th>author_handle</th>\n",
       "      <th>level</th>\n",
       "      <th>view_time_seconds</th>\n",
       "    </tr>\n",
       "  </thead>\n",
       "  <tbody>\n",
       "    <tr>\n",
       "      <th>0</th>\n",
       "      <td>1</td>\n",
       "      <td>2017-06-27</td>\n",
       "      <td>cpt-sp2010-web-designers-branding-intro</td>\n",
       "      <td>875</td>\n",
       "      <td>Beginner</td>\n",
       "      <td>3786</td>\n",
       "    </tr>\n",
       "    <tr>\n",
       "      <th>1</th>\n",
       "      <td>1</td>\n",
       "      <td>2017-06-28</td>\n",
       "      <td>cpt-sp2010-web-designers-branding-intro</td>\n",
       "      <td>875</td>\n",
       "      <td>Beginner</td>\n",
       "      <td>1098</td>\n",
       "    </tr>\n",
       "    <tr>\n",
       "      <th>2</th>\n",
       "      <td>1</td>\n",
       "      <td>2017-06-28</td>\n",
       "      <td>cpt-sp2010-web-designers-css</td>\n",
       "      <td>875</td>\n",
       "      <td>Intermediate</td>\n",
       "      <td>4406</td>\n",
       "    </tr>\n",
       "    <tr>\n",
       "      <th>3</th>\n",
       "      <td>1</td>\n",
       "      <td>2017-07-27</td>\n",
       "      <td>cpt-sp2010-web-designers-css</td>\n",
       "      <td>875</td>\n",
       "      <td>Intermediate</td>\n",
       "      <td>553</td>\n",
       "    </tr>\n",
       "    <tr>\n",
       "      <th>4</th>\n",
       "      <td>1</td>\n",
       "      <td>2017-09-12</td>\n",
       "      <td>aws-certified-solutions-architect-professional</td>\n",
       "      <td>281</td>\n",
       "      <td>Advanced</td>\n",
       "      <td>102</td>\n",
       "    </tr>\n",
       "  </tbody>\n",
       "</table>\n",
       "</div>"
      ],
      "text/plain": [
       "   user_handle   view_date                                       course_id  \\\n",
       "0            1  2017-06-27         cpt-sp2010-web-designers-branding-intro   \n",
       "1            1  2017-06-28         cpt-sp2010-web-designers-branding-intro   \n",
       "2            1  2017-06-28                    cpt-sp2010-web-designers-css   \n",
       "3            1  2017-07-27                    cpt-sp2010-web-designers-css   \n",
       "4            1  2017-09-12  aws-certified-solutions-architect-professional   \n",
       "\n",
       "   author_handle         level  view_time_seconds  \n",
       "0            875      Beginner               3786  \n",
       "1            875      Beginner               1098  \n",
       "2            875  Intermediate               4406  \n",
       "3            875  Intermediate                553  \n",
       "4            281      Advanced                102  "
      ]
     },
     "execution_count": 93,
     "metadata": {},
     "output_type": "execute_result"
    }
   ],
   "source": [
    "## User similarity based on the levels (beginner, intermediate, advanced)\n",
    "user_course_views.head()"
   ]
  },
  {
   "cell_type": "code",
   "execution_count": 98,
   "metadata": {},
   "outputs": [],
   "source": [
    "## Checking for available courses and courses viwed match\n",
    "courses_viewed = set(rating_views.course_id)"
   ]
  },
  {
   "cell_type": "code",
   "execution_count": 99,
   "metadata": {},
   "outputs": [
    {
     "name": "stdout",
     "output_type": "stream",
     "text": [
      "(True, ' : courses viewed are in courses available')\n"
     ]
    }
   ],
   "source": [
    "print(courses_viewed.issubset(courses),' : courses viewed are in courses available')"
   ]
  },
  {
   "cell_type": "code",
   "execution_count": 100,
   "metadata": {},
   "outputs": [],
   "source": [
    "course_available_dict={}\n",
    "course_available_dict_reverse={}\n",
    "courses_available = list(courses)\n",
    "for key,value in enumerate(courses_available):\n",
    "    course_available_dict[key]=value\n",
    "    course_available_dict_reverse[value]=key"
   ]
  },
  {
   "cell_type": "raw",
   "metadata": {},
   "source": [
    "rating_views['level'] = list(map(lambda x : x.title(),rating_views.level))"
   ]
  },
  {
   "cell_type": "code",
   "execution_count": 110,
   "metadata": {},
   "outputs": [
    {
     "data": {
      "text/html": [
       "<div>\n",
       "<style scoped>\n",
       "    .dataframe tbody tr th:only-of-type {\n",
       "        vertical-align: middle;\n",
       "    }\n",
       "\n",
       "    .dataframe tbody tr th {\n",
       "        vertical-align: top;\n",
       "    }\n",
       "\n",
       "    .dataframe thead th {\n",
       "        text-align: right;\n",
       "    }\n",
       "</style>\n",
       "<table border=\"1\" class=\"dataframe\">\n",
       "  <thead>\n",
       "    <tr style=\"text-align: right;\">\n",
       "      <th></th>\n",
       "      <th>user_handle</th>\n",
       "      <th>course_ids</th>\n",
       "      <th>level_id</th>\n",
       "    </tr>\n",
       "  </thead>\n",
       "  <tbody>\n",
       "    <tr>\n",
       "      <th>0</th>\n",
       "      <td>1</td>\n",
       "      <td>3529</td>\n",
       "      <td>1</td>\n",
       "    </tr>\n",
       "    <tr>\n",
       "      <th>2</th>\n",
       "      <td>1</td>\n",
       "      <td>2905</td>\n",
       "      <td>2</td>\n",
       "    </tr>\n",
       "    <tr>\n",
       "      <th>4</th>\n",
       "      <td>1</td>\n",
       "      <td>1247</td>\n",
       "      <td>3</td>\n",
       "    </tr>\n",
       "    <tr>\n",
       "      <th>5</th>\n",
       "      <td>1</td>\n",
       "      <td>4857</td>\n",
       "      <td>2</td>\n",
       "    </tr>\n",
       "    <tr>\n",
       "      <th>6</th>\n",
       "      <td>1</td>\n",
       "      <td>5134</td>\n",
       "      <td>1</td>\n",
       "    </tr>\n",
       "  </tbody>\n",
       "</table>\n",
       "</div>"
      ],
      "text/plain": [
       "   user_handle  course_ids  level_id\n",
       "0            1        3529         1\n",
       "2            1        2905         2\n",
       "4            1        1247         3\n",
       "5            1        4857         2\n",
       "6            1        5134         1"
      ]
     },
     "execution_count": 110,
     "metadata": {},
     "output_type": "execute_result"
    }
   ],
   "source": [
    "rating_views.head()"
   ]
  },
  {
   "cell_type": "code",
   "execution_count": 107,
   "metadata": {},
   "outputs": [],
   "source": [
    "user_course_views['course_ids']=user_course_views.course_id.map(course_available_dict_reverse)\n",
    "user_course_views['level_id']=user_course_views.level.map({'Beginner':1,'Intermediate':2,'Advanced':3})"
   ]
  },
  {
   "cell_type": "code",
   "execution_count": 109,
   "metadata": {},
   "outputs": [
    {
     "name": "stdout",
     "output_type": "stream",
     "text": [
      "(0, 3)\n"
     ]
    },
    {
     "name": "stderr",
     "output_type": "stream",
     "text": [
      "c:\\python27\\lib\\site-packages\\ipykernel_launcher.py:3: SettingWithCopyWarning: \n",
      "A value is trying to be set on a copy of a slice from a DataFrame\n",
      "\n",
      "See the caveats in the documentation: http://pandas.pydata.org/pandas-docs/stable/indexing.html#indexing-view-versus-copy\n",
      "  This is separate from the ipykernel package so we can avoid doing imports until\n"
     ]
    }
   ],
   "source": [
    "rating_views = user_course_views[['user_handle','course_ids','level_id']]\n",
    "\n",
    "rating_views.drop_duplicates(inplace=True)\n",
    "print(rating_views[rating_views.course_ids.isna()].shape)"
   ]
  },
  {
   "cell_type": "code",
   "execution_count": 113,
   "metadata": {},
   "outputs": [
    {
     "name": "stdout",
     "output_type": "stream",
     "text": [
      "(8760, 5942)\n",
      "            level_id                                              ...        \\\n",
      "course_ids      0    1    2    3    4    5    6    7    8    9    ...  5932   \n",
      "user_handle                                                       ...         \n",
      "1                NaN  NaN  NaN  NaN  NaN  NaN  NaN  NaN  NaN  NaN ...   NaN   \n",
      "2                NaN  NaN  NaN  NaN  NaN  NaN  NaN  NaN  NaN  NaN ...   NaN   \n",
      "3                NaN  NaN  NaN  NaN  NaN  NaN  NaN  NaN  NaN  NaN ...   NaN   \n",
      "4                NaN  NaN  NaN  NaN  NaN  NaN  NaN  NaN  NaN  NaN ...   NaN   \n",
      "5                NaN  NaN  NaN  NaN  NaN  NaN  NaN  NaN  NaN  NaN ...   NaN   \n",
      "\n",
      "                                                          \n",
      "course_ids  5933 5934 5935 5936 5937 5938 5939 5940 5941  \n",
      "user_handle                                               \n",
      "1            NaN  NaN  NaN  NaN  NaN  NaN  NaN  NaN  NaN  \n",
      "2            NaN  NaN  NaN  NaN  NaN  NaN  NaN  NaN  NaN  \n",
      "3            NaN  NaN  NaN  NaN  NaN  NaN  NaN  NaN  NaN  \n",
      "4            NaN  NaN  NaN  NaN  NaN  NaN  NaN  NaN  NaN  \n",
      "5            NaN  NaN  NaN  NaN  NaN  NaN  NaN  NaN  NaN  \n",
      "\n",
      "[5 rows x 5942 columns]\n"
     ]
    }
   ],
   "source": [
    "views_data_matrix = pd.pivot_table(rating_views,columns='course_ids',index='user_handle')\n",
    "print(views_data_matrix.shape)\n",
    "print(views_data_matrix.head())"
   ]
  },
  {
   "cell_type": "code",
   "execution_count": 115,
   "metadata": {},
   "outputs": [],
   "source": [
    "views_data_matrix.fillna(0,inplace=True)"
   ]
  },
  {
   "cell_type": "code",
   "execution_count": 116,
   "metadata": {},
   "outputs": [],
   "source": [
    "views_data_matrix = views_data_matrix.as_matrix()"
   ]
  },
  {
   "cell_type": "code",
   "execution_count": 117,
   "metadata": {},
   "outputs": [
    {
     "name": "stdout",
     "output_type": "stream",
     "text": [
      "(249238, 8)\n",
      "(105353, 3)\n"
     ]
    }
   ],
   "source": [
    "print(user_course_views.shape)\n",
    "print(rating_views.shape)"
   ]
  },
  {
   "cell_type": "code",
   "execution_count": 118,
   "metadata": {},
   "outputs": [],
   "source": [
    "user_views_similarity = pairwise_distances(views_data_matrix,metric='cosine')"
   ]
  },
  {
   "cell_type": "code",
   "execution_count": 120,
   "metadata": {},
   "outputs": [],
   "source": [
    "pd.DataFrame(user_views_similarity).to_csv('./data_files_ml_engineer/trial/user_views_similarity.csv',index=False)"
   ]
  },
  {
   "cell_type": "code",
   "execution_count": 125,
   "metadata": {},
   "outputs": [],
   "source": [
    "courses_available = pd.DataFrame.from_dict(course_available_dict,orient='index')\n",
    "#courses_available.reset_index(inplace=True)\n",
    "courses_available.columns=['course']"
   ]
  },
  {
   "cell_type": "code",
   "execution_count": null,
   "metadata": {},
   "outputs": [],
   "source": []
  },
  {
   "cell_type": "code",
   "execution_count": null,
   "metadata": {},
   "outputs": [],
   "source": []
  },
  {
   "cell_type": "code",
   "execution_count": 126,
   "metadata": {},
   "outputs": [
    {
     "data": {
      "text/html": [
       "<div>\n",
       "<style scoped>\n",
       "    .dataframe tbody tr th:only-of-type {\n",
       "        vertical-align: middle;\n",
       "    }\n",
       "\n",
       "    .dataframe tbody tr th {\n",
       "        vertical-align: top;\n",
       "    }\n",
       "\n",
       "    .dataframe thead th {\n",
       "        text-align: right;\n",
       "    }\n",
       "</style>\n",
       "<table border=\"1\" class=\"dataframe\">\n",
       "  <thead>\n",
       "    <tr style=\"text-align: right;\">\n",
       "      <th></th>\n",
       "      <th>course</th>\n",
       "    </tr>\n",
       "  </thead>\n",
       "  <tbody>\n",
       "    <tr>\n",
       "      <th>0</th>\n",
       "      <td>iis-certificates</td>\n",
       "    </tr>\n",
       "    <tr>\n",
       "      <th>1</th>\n",
       "      <td>jenkins-introduction</td>\n",
       "    </tr>\n",
       "    <tr>\n",
       "      <th>2</th>\n",
       "      <td>preparing-to-migrate-office-365</td>\n",
       "    </tr>\n",
       "    <tr>\n",
       "      <th>3</th>\n",
       "      <td>photoshop-cc-layer-styles</td>\n",
       "    </tr>\n",
       "    <tr>\n",
       "      <th>4</th>\n",
       "      <td>building-jax-ws-web-services-apache-cxf</td>\n",
       "    </tr>\n",
       "  </tbody>\n",
       "</table>\n",
       "</div>"
      ],
      "text/plain": [
       "                                    course\n",
       "0                         iis-certificates\n",
       "1                     jenkins-introduction\n",
       "2          preparing-to-migrate-office-365\n",
       "3                photoshop-cc-layer-styles\n",
       "4  building-jax-ws-web-services-apache-cxf"
      ]
     },
     "execution_count": 126,
     "metadata": {},
     "output_type": "execute_result"
    }
   ],
   "source": [
    "### user similarity based on the levels can be just done using correlation\n",
    "courses_available.head()"
   ]
  },
  {
   "cell_type": "code",
   "execution_count": 128,
   "metadata": {},
   "outputs": [
    {
     "data": {
      "text/html": [
       "<div>\n",
       "<style scoped>\n",
       "    .dataframe tbody tr th:only-of-type {\n",
       "        vertical-align: middle;\n",
       "    }\n",
       "\n",
       "    .dataframe tbody tr th {\n",
       "        vertical-align: top;\n",
       "    }\n",
       "\n",
       "    .dataframe thead th {\n",
       "        text-align: right;\n",
       "    }\n",
       "</style>\n",
       "<table border=\"1\" class=\"dataframe\">\n",
       "  <thead>\n",
       "    <tr style=\"text-align: right;\">\n",
       "      <th></th>\n",
       "      <th>user_handle</th>\n",
       "      <th>course_ids</th>\n",
       "      <th>level_id</th>\n",
       "    </tr>\n",
       "  </thead>\n",
       "  <tbody>\n",
       "    <tr>\n",
       "      <th>0</th>\n",
       "      <td>1</td>\n",
       "      <td>3529</td>\n",
       "      <td>1</td>\n",
       "    </tr>\n",
       "    <tr>\n",
       "      <th>2</th>\n",
       "      <td>1</td>\n",
       "      <td>2905</td>\n",
       "      <td>2</td>\n",
       "    </tr>\n",
       "    <tr>\n",
       "      <th>4</th>\n",
       "      <td>1</td>\n",
       "      <td>1247</td>\n",
       "      <td>3</td>\n",
       "    </tr>\n",
       "    <tr>\n",
       "      <th>5</th>\n",
       "      <td>1</td>\n",
       "      <td>4857</td>\n",
       "      <td>2</td>\n",
       "    </tr>\n",
       "    <tr>\n",
       "      <th>6</th>\n",
       "      <td>1</td>\n",
       "      <td>5134</td>\n",
       "      <td>1</td>\n",
       "    </tr>\n",
       "  </tbody>\n",
       "</table>\n",
       "</div>"
      ],
      "text/plain": [
       "   user_handle  course_ids  level_id\n",
       "0            1        3529         1\n",
       "2            1        2905         2\n",
       "4            1        1247         3\n",
       "5            1        4857         2\n",
       "6            1        5134         1"
      ]
     },
     "execution_count": 128,
     "metadata": {},
     "output_type": "execute_result"
    }
   ],
   "source": [
    "rating_views.head()"
   ]
  },
  {
   "cell_type": "code",
   "execution_count": 132,
   "metadata": {},
   "outputs": [
    {
     "data": {
      "text/html": [
       "<div>\n",
       "<style scoped>\n",
       "    .dataframe tbody tr th:only-of-type {\n",
       "        vertical-align: middle;\n",
       "    }\n",
       "\n",
       "    .dataframe tbody tr th {\n",
       "        vertical-align: top;\n",
       "    }\n",
       "\n",
       "    .dataframe thead th {\n",
       "        text-align: right;\n",
       "    }\n",
       "</style>\n",
       "<table border=\"1\" class=\"dataframe\">\n",
       "  <thead>\n",
       "    <tr style=\"text-align: right;\">\n",
       "      <th></th>\n",
       "      <th>level_id</th>\n",
       "      <th>rating_count</th>\n",
       "    </tr>\n",
       "    <tr>\n",
       "      <th>user_handle</th>\n",
       "      <th></th>\n",
       "      <th></th>\n",
       "    </tr>\n",
       "  </thead>\n",
       "  <tbody>\n",
       "    <tr>\n",
       "      <th>1</th>\n",
       "      <td>1.666667</td>\n",
       "      <td>6</td>\n",
       "    </tr>\n",
       "    <tr>\n",
       "      <th>2</th>\n",
       "      <td>1.936842</td>\n",
       "      <td>95</td>\n",
       "    </tr>\n",
       "    <tr>\n",
       "      <th>3</th>\n",
       "      <td>1.500000</td>\n",
       "      <td>2</td>\n",
       "    </tr>\n",
       "    <tr>\n",
       "      <th>4</th>\n",
       "      <td>1.500000</td>\n",
       "      <td>12</td>\n",
       "    </tr>\n",
       "    <tr>\n",
       "      <th>5</th>\n",
       "      <td>1.444444</td>\n",
       "      <td>9</td>\n",
       "    </tr>\n",
       "  </tbody>\n",
       "</table>\n",
       "</div>"
      ],
      "text/plain": [
       "             level_id  rating_count\n",
       "user_handle                        \n",
       "1            1.666667             6\n",
       "2            1.936842            95\n",
       "3            1.500000             2\n",
       "4            1.500000            12\n",
       "5            1.444444             9"
      ]
     },
     "execution_count": 132,
     "metadata": {},
     "output_type": "execute_result"
    }
   ],
   "source": [
    "user_level = pd.DataFrame(rating_views.groupby('user_handle')['level_id'].mean())\n",
    "user_level['rating_count'] = pd.DataFrame(rating_views.groupby('user_handle')['level_id'].count())\n",
    "user_level.head()"
   ]
  },
  {
   "cell_type": "code",
   "execution_count": 133,
   "metadata": {},
   "outputs": [
    {
     "data": {
      "text/html": [
       "<div>\n",
       "<style scoped>\n",
       "    .dataframe tbody tr th:only-of-type {\n",
       "        vertical-align: middle;\n",
       "    }\n",
       "\n",
       "    .dataframe tbody tr th {\n",
       "        vertical-align: top;\n",
       "    }\n",
       "\n",
       "    .dataframe thead th {\n",
       "        text-align: right;\n",
       "    }\n",
       "</style>\n",
       "<table border=\"1\" class=\"dataframe\">\n",
       "  <thead>\n",
       "    <tr style=\"text-align: right;\">\n",
       "      <th></th>\n",
       "      <th>level_id</th>\n",
       "      <th>rating_count</th>\n",
       "    </tr>\n",
       "  </thead>\n",
       "  <tbody>\n",
       "    <tr>\n",
       "      <th>count</th>\n",
       "      <td>8760.000000</td>\n",
       "      <td>8760.000000</td>\n",
       "    </tr>\n",
       "    <tr>\n",
       "      <th>mean</th>\n",
       "      <td>1.519516</td>\n",
       "      <td>12.026598</td>\n",
       "    </tr>\n",
       "    <tr>\n",
       "      <th>std</th>\n",
       "      <td>0.369866</td>\n",
       "      <td>21.284252</td>\n",
       "    </tr>\n",
       "    <tr>\n",
       "      <th>min</th>\n",
       "      <td>1.000000</td>\n",
       "      <td>1.000000</td>\n",
       "    </tr>\n",
       "    <tr>\n",
       "      <th>25%</th>\n",
       "      <td>1.250000</td>\n",
       "      <td>2.000000</td>\n",
       "    </tr>\n",
       "    <tr>\n",
       "      <th>50%</th>\n",
       "      <td>1.500000</td>\n",
       "      <td>5.000000</td>\n",
       "    </tr>\n",
       "    <tr>\n",
       "      <th>75%</th>\n",
       "      <td>1.750000</td>\n",
       "      <td>14.000000</td>\n",
       "    </tr>\n",
       "    <tr>\n",
       "      <th>max</th>\n",
       "      <td>3.000000</td>\n",
       "      <td>533.000000</td>\n",
       "    </tr>\n",
       "  </tbody>\n",
       "</table>\n",
       "</div>"
      ],
      "text/plain": [
       "          level_id  rating_count\n",
       "count  8760.000000   8760.000000\n",
       "mean      1.519516     12.026598\n",
       "std       0.369866     21.284252\n",
       "min       1.000000      1.000000\n",
       "25%       1.250000      2.000000\n",
       "50%       1.500000      5.000000\n",
       "75%       1.750000     14.000000\n",
       "max       3.000000    533.000000"
      ]
     },
     "execution_count": 133,
     "metadata": {},
     "output_type": "execute_result"
    }
   ],
   "source": [
    "user_level.describe()"
   ]
  },
  {
   "cell_type": "code",
   "execution_count": 137,
   "metadata": {},
   "outputs": [],
   "source": [
    "#we have 8760 users, max number of courses user interested in are : 533 and an ntermediate user"
   ]
  },
  {
   "cell_type": "code",
   "execution_count": 136,
   "metadata": {},
   "outputs": [
    {
     "data": {
      "text/html": [
       "<div>\n",
       "<style scoped>\n",
       "    .dataframe tbody tr th:only-of-type {\n",
       "        vertical-align: middle;\n",
       "    }\n",
       "\n",
       "    .dataframe tbody tr th {\n",
       "        vertical-align: top;\n",
       "    }\n",
       "\n",
       "    .dataframe thead th {\n",
       "        text-align: right;\n",
       "    }\n",
       "</style>\n",
       "<table border=\"1\" class=\"dataframe\">\n",
       "  <thead>\n",
       "    <tr style=\"text-align: right;\">\n",
       "      <th></th>\n",
       "      <th>level_id</th>\n",
       "      <th>rating_count</th>\n",
       "    </tr>\n",
       "    <tr>\n",
       "      <th>user_handle</th>\n",
       "      <th></th>\n",
       "      <th></th>\n",
       "    </tr>\n",
       "  </thead>\n",
       "  <tbody>\n",
       "    <tr>\n",
       "      <th>8081</th>\n",
       "      <td>2.105066</td>\n",
       "      <td>533</td>\n",
       "    </tr>\n",
       "    <tr>\n",
       "      <th>6800</th>\n",
       "      <td>1.741860</td>\n",
       "      <td>430</td>\n",
       "    </tr>\n",
       "    <tr>\n",
       "      <th>8261</th>\n",
       "      <td>1.646154</td>\n",
       "      <td>390</td>\n",
       "    </tr>\n",
       "    <tr>\n",
       "      <th>4505</th>\n",
       "      <td>1.634349</td>\n",
       "      <td>361</td>\n",
       "    </tr>\n",
       "    <tr>\n",
       "      <th>5162</th>\n",
       "      <td>2.203822</td>\n",
       "      <td>314</td>\n",
       "    </tr>\n",
       "  </tbody>\n",
       "</table>\n",
       "</div>"
      ],
      "text/plain": [
       "             level_id  rating_count\n",
       "user_handle                        \n",
       "8081         2.105066           533\n",
       "6800         1.741860           430\n",
       "8261         1.646154           390\n",
       "4505         1.634349           361\n",
       "5162         2.203822           314"
      ]
     },
     "execution_count": 136,
     "metadata": {},
     "output_type": "execute_result"
    }
   ],
   "source": [
    "user_level.sort_values('rating_count',ascending=False).head()"
   ]
  },
  {
   "cell_type": "code",
   "execution_count": 143,
   "metadata": {},
   "outputs": [
    {
     "data": {
      "text/plain": [
       "True"
      ]
     },
     "execution_count": 143,
     "metadata": {},
     "output_type": "execute_result"
    }
   ],
   "source": [
    "8081 in list(rating_views.user_handle)"
   ]
  },
  {
   "cell_type": "markdown",
   "metadata": {},
   "source": [
    "user_views_crosstab.columns.get_level_values(0)"
   ]
  },
  {
   "cell_type": "code",
   "execution_count": 163,
   "metadata": {},
   "outputs": [
    {
     "name": "stdout",
     "output_type": "stream",
     "text": [
      "please enter user id :8081\n"
     ]
    }
   ],
   "source": [
    "user = int(raw_input('please enter user id :'))\n",
    "user_views_crosstab = pd.pivot_table(rating_views,columns='user_handle',index='course_ids')"
   ]
  },
  {
   "cell_type": "code",
   "execution_count": 165,
   "metadata": {},
   "outputs": [
    {
     "data": {
      "text/html": [
       "<div>\n",
       "<style scoped>\n",
       "    .dataframe tbody tr th:only-of-type {\n",
       "        vertical-align: middle;\n",
       "    }\n",
       "\n",
       "    .dataframe tbody tr th {\n",
       "        vertical-align: top;\n",
       "    }\n",
       "\n",
       "    .dataframe thead th {\n",
       "        text-align: right;\n",
       "    }\n",
       "</style>\n",
       "<table border=\"1\" class=\"dataframe\">\n",
       "  <thead>\n",
       "    <tr style=\"text-align: right;\">\n",
       "      <th></th>\n",
       "      <th>correlated</th>\n",
       "    </tr>\n",
       "    <tr>\n",
       "      <th>user_handle</th>\n",
       "      <th></th>\n",
       "    </tr>\n",
       "  </thead>\n",
       "  <tbody>\n",
       "    <tr>\n",
       "      <th>2</th>\n",
       "      <td>1.0</td>\n",
       "    </tr>\n",
       "    <tr>\n",
       "      <th>5</th>\n",
       "      <td>1.0</td>\n",
       "    </tr>\n",
       "    <tr>\n",
       "      <th>27</th>\n",
       "      <td>1.0</td>\n",
       "    </tr>\n",
       "    <tr>\n",
       "      <th>45</th>\n",
       "      <td>1.0</td>\n",
       "    </tr>\n",
       "    <tr>\n",
       "      <th>67</th>\n",
       "      <td>1.0</td>\n",
       "    </tr>\n",
       "  </tbody>\n",
       "</table>\n",
       "</div>"
      ],
      "text/plain": [
       "             correlated\n",
       "user_handle            \n",
       "2                   1.0\n",
       "5                   1.0\n",
       "27                  1.0\n",
       "45                  1.0\n",
       "67                  1.0"
      ]
     },
     "execution_count": 165,
     "metadata": {},
     "output_type": "execute_result"
    }
   ],
   "source": [
    "#drop multi index\n",
    "user_views_crosstab.columns = user_views_crosstab.columns.droplevel()\n",
    "\n",
    "user_view_ratings = user_views_crosstab[user]\n",
    "#user_view_ratings[user_view_ratings>0]\n",
    "similar_users = user_views_crosstab.corrwith(user_view_ratings)\n",
    "\n",
    "similar_users_df = pd.DataFrame(similar_users,columns=['correlated'])\n",
    "similar_users_df.dropna(inplace=True)\n",
    "similar_users_df.head()"
   ]
  },
  {
   "cell_type": "code",
   "execution_count": 171,
   "metadata": {},
   "outputs": [
    {
     "data": {
      "text/html": [
       "<div>\n",
       "<style scoped>\n",
       "    .dataframe tbody tr th:only-of-type {\n",
       "        vertical-align: middle;\n",
       "    }\n",
       "\n",
       "    .dataframe tbody tr th {\n",
       "        vertical-align: top;\n",
       "    }\n",
       "\n",
       "    .dataframe thead th {\n",
       "        text-align: right;\n",
       "    }\n",
       "</style>\n",
       "<table border=\"1\" class=\"dataframe\">\n",
       "  <thead>\n",
       "    <tr style=\"text-align: right;\">\n",
       "      <th></th>\n",
       "      <th>correlated</th>\n",
       "    </tr>\n",
       "    <tr>\n",
       "      <th>user_handle</th>\n",
       "      <th></th>\n",
       "    </tr>\n",
       "  </thead>\n",
       "  <tbody>\n",
       "    <tr>\n",
       "      <th>9897</th>\n",
       "      <td>1.0</td>\n",
       "    </tr>\n",
       "    <tr>\n",
       "      <th>9905</th>\n",
       "      <td>1.0</td>\n",
       "    </tr>\n",
       "    <tr>\n",
       "      <th>9907</th>\n",
       "      <td>1.0</td>\n",
       "    </tr>\n",
       "    <tr>\n",
       "      <th>9921</th>\n",
       "      <td>1.0</td>\n",
       "    </tr>\n",
       "    <tr>\n",
       "      <th>9986</th>\n",
       "      <td>1.0</td>\n",
       "    </tr>\n",
       "  </tbody>\n",
       "</table>\n",
       "</div>"
      ],
      "text/plain": [
       "             correlated\n",
       "user_handle            \n",
       "9897                1.0\n",
       "9905                1.0\n",
       "9907                1.0\n",
       "9921                1.0\n",
       "9986                1.0"
      ]
     },
     "execution_count": 171,
     "metadata": {},
     "output_type": "execute_result"
    }
   ],
   "source": [
    "similar_users_df.tail()"
   ]
  },
  {
   "cell_type": "code",
   "execution_count": 168,
   "metadata": {},
   "outputs": [],
   "source": [
    "similar_users_summary = similar_users_df.join(user_level['rating_count'])"
   ]
  },
  {
   "cell_type": "code",
   "execution_count": 172,
   "metadata": {
    "collapsed": true
   },
   "outputs": [
    {
     "data": {
      "text/html": [
       "<div>\n",
       "<style scoped>\n",
       "    .dataframe tbody tr th:only-of-type {\n",
       "        vertical-align: middle;\n",
       "    }\n",
       "\n",
       "    .dataframe tbody tr th {\n",
       "        vertical-align: top;\n",
       "    }\n",
       "\n",
       "    .dataframe thead th {\n",
       "        text-align: right;\n",
       "    }\n",
       "</style>\n",
       "<table border=\"1\" class=\"dataframe\">\n",
       "  <thead>\n",
       "    <tr style=\"text-align: right;\">\n",
       "      <th></th>\n",
       "      <th>correlated</th>\n",
       "      <th>rating_count</th>\n",
       "    </tr>\n",
       "    <tr>\n",
       "      <th>user_handle</th>\n",
       "      <th></th>\n",
       "      <th></th>\n",
       "    </tr>\n",
       "  </thead>\n",
       "  <tbody>\n",
       "    <tr>\n",
       "      <th>6032</th>\n",
       "      <td>1.0</td>\n",
       "      <td>43</td>\n",
       "    </tr>\n",
       "    <tr>\n",
       "      <th>6871</th>\n",
       "      <td>1.0</td>\n",
       "      <td>26</td>\n",
       "    </tr>\n",
       "    <tr>\n",
       "      <th>1948</th>\n",
       "      <td>1.0</td>\n",
       "      <td>18</td>\n",
       "    </tr>\n",
       "    <tr>\n",
       "      <th>6446</th>\n",
       "      <td>1.0</td>\n",
       "      <td>18</td>\n",
       "    </tr>\n",
       "    <tr>\n",
       "      <th>6071</th>\n",
       "      <td>1.0</td>\n",
       "      <td>66</td>\n",
       "    </tr>\n",
       "    <tr>\n",
       "      <th>6072</th>\n",
       "      <td>1.0</td>\n",
       "      <td>72</td>\n",
       "    </tr>\n",
       "    <tr>\n",
       "      <th>2266</th>\n",
       "      <td>1.0</td>\n",
       "      <td>62</td>\n",
       "    </tr>\n",
       "    <tr>\n",
       "      <th>6190</th>\n",
       "      <td>1.0</td>\n",
       "      <td>20</td>\n",
       "    </tr>\n",
       "    <tr>\n",
       "      <th>2220</th>\n",
       "      <td>1.0</td>\n",
       "      <td>61</td>\n",
       "    </tr>\n",
       "    <tr>\n",
       "      <th>6290</th>\n",
       "      <td>1.0</td>\n",
       "      <td>14</td>\n",
       "    </tr>\n",
       "    <tr>\n",
       "      <th>1970</th>\n",
       "      <td>1.0</td>\n",
       "      <td>49</td>\n",
       "    </tr>\n",
       "    <tr>\n",
       "      <th>2169</th>\n",
       "      <td>1.0</td>\n",
       "      <td>60</td>\n",
       "    </tr>\n",
       "    <tr>\n",
       "      <th>4878</th>\n",
       "      <td>1.0</td>\n",
       "      <td>10</td>\n",
       "    </tr>\n",
       "    <tr>\n",
       "      <th>2119</th>\n",
       "      <td>1.0</td>\n",
       "      <td>16</td>\n",
       "    </tr>\n",
       "    <tr>\n",
       "      <th>2062</th>\n",
       "      <td>1.0</td>\n",
       "      <td>14</td>\n",
       "    </tr>\n",
       "    <tr>\n",
       "      <th>2059</th>\n",
       "      <td>1.0</td>\n",
       "      <td>16</td>\n",
       "    </tr>\n",
       "    <tr>\n",
       "      <th>6619</th>\n",
       "      <td>1.0</td>\n",
       "      <td>14</td>\n",
       "    </tr>\n",
       "    <tr>\n",
       "      <th>2076</th>\n",
       "      <td>1.0</td>\n",
       "      <td>11</td>\n",
       "    </tr>\n",
       "    <tr>\n",
       "      <th>6680</th>\n",
       "      <td>1.0</td>\n",
       "      <td>23</td>\n",
       "    </tr>\n",
       "    <tr>\n",
       "      <th>106</th>\n",
       "      <td>1.0</td>\n",
       "      <td>11</td>\n",
       "    </tr>\n",
       "    <tr>\n",
       "      <th>423</th>\n",
       "      <td>1.0</td>\n",
       "      <td>10</td>\n",
       "    </tr>\n",
       "    <tr>\n",
       "      <th>2001</th>\n",
       "      <td>1.0</td>\n",
       "      <td>40</td>\n",
       "    </tr>\n",
       "    <tr>\n",
       "      <th>5672</th>\n",
       "      <td>1.0</td>\n",
       "      <td>27</td>\n",
       "    </tr>\n",
       "    <tr>\n",
       "      <th>2056</th>\n",
       "      <td>1.0</td>\n",
       "      <td>23</td>\n",
       "    </tr>\n",
       "    <tr>\n",
       "      <th>8869</th>\n",
       "      <td>1.0</td>\n",
       "      <td>49</td>\n",
       "    </tr>\n",
       "    <tr>\n",
       "      <th>8873</th>\n",
       "      <td>1.0</td>\n",
       "      <td>82</td>\n",
       "    </tr>\n",
       "    <tr>\n",
       "      <th>7441</th>\n",
       "      <td>1.0</td>\n",
       "      <td>24</td>\n",
       "    </tr>\n",
       "    <tr>\n",
       "      <th>8906</th>\n",
       "      <td>1.0</td>\n",
       "      <td>23</td>\n",
       "    </tr>\n",
       "    <tr>\n",
       "      <th>1351</th>\n",
       "      <td>1.0</td>\n",
       "      <td>22</td>\n",
       "    </tr>\n",
       "    <tr>\n",
       "      <th>4073</th>\n",
       "      <td>1.0</td>\n",
       "      <td>52</td>\n",
       "    </tr>\n",
       "  </tbody>\n",
       "</table>\n",
       "</div>"
      ],
      "text/plain": [
       "             correlated  rating_count\n",
       "user_handle                          \n",
       "6032                1.0            43\n",
       "6871                1.0            26\n",
       "1948                1.0            18\n",
       "6446                1.0            18\n",
       "6071                1.0            66\n",
       "6072                1.0            72\n",
       "2266                1.0            62\n",
       "6190                1.0            20\n",
       "2220                1.0            61\n",
       "6290                1.0            14\n",
       "1970                1.0            49\n",
       "2169                1.0            60\n",
       "4878                1.0            10\n",
       "2119                1.0            16\n",
       "2062                1.0            14\n",
       "2059                1.0            16\n",
       "6619                1.0            14\n",
       "2076                1.0            11\n",
       "6680                1.0            23\n",
       "106                 1.0            11\n",
       "423                 1.0            10\n",
       "2001                1.0            40\n",
       "5672                1.0            27\n",
       "2056                1.0            23\n",
       "8869                1.0            49\n",
       "8873                1.0            82\n",
       "7441                1.0            24\n",
       "8906                1.0            23\n",
       "1351                1.0            22\n",
       "4073                1.0            52"
      ]
     },
     "execution_count": 172,
     "metadata": {},
     "output_type": "execute_result"
    }
   ],
   "source": [
    "#50% users are interested in atleast 5 courses\n",
    "similar_users_summary[similar_users_summary['rating_count']>5].sort_values('correlated',ascending=False).tail(30)"
   ]
  },
  {
   "cell_type": "code",
   "execution_count": null,
   "metadata": {},
   "outputs": [],
   "source": []
  }
 ],
 "metadata": {
  "kernelspec": {
   "display_name": "Python 2",
   "language": "python",
   "name": "python2"
  },
  "language_info": {
   "codemirror_mode": {
    "name": "ipython",
    "version": 2
   },
   "file_extension": ".py",
   "mimetype": "text/x-python",
   "name": "python",
   "nbconvert_exporter": "python",
   "pygments_lexer": "ipython2",
   "version": "2.7.14"
  }
 },
 "nbformat": 4,
 "nbformat_minor": 2
}
